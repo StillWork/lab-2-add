{
 "cells": [
  {
   "cell_type": "markdown",
   "metadata": {},
   "source": [
    "언어모델링\n",
    "==\n",
    "- 어린왕자 소설 데이터 https://goo.gl/18hx19\n",
    "- 음절 단위 언어 모델링"
   ]
  },
  {
   "cell_type": "code",
   "execution_count": 8,
   "metadata": {},
   "outputs": [
    {
     "name": "stdout",
     "output_type": "stream",
     "text": [
      "Extracting text from input...\n"
     ]
    }
   ],
   "source": [
    "from __future__ import print_function\n",
    "from keras.layers.recurrent import SimpleRNN\n",
    "from keras.models import Sequential\n",
    "from keras.layers import Dense, Activation\n",
    "import numpy as np\n",
    "\n",
    "INPUT_FILE = \"./data/The_little_prince.txt\"\n",
    "\n",
    "print(\"Extracting text from input...\")\n",
    "fin = open(INPUT_FILE, 'rb')\n",
    "lines = []\n",
    "for line in fin:\n",
    "    line = line.strip().lower()\n",
    "    line = line.decode(\"euckr\", \"ignore\")\n",
    "    if len(line) == 0:\n",
    "        continue\n",
    "    lines.append(line)\n",
    "fin.close()\n",
    "text = \" \".join(lines)\n",
    "\n",
    "# char indexing\n",
    "chars = set([c for c in text])\n",
    "nb_chars = len(chars)\n",
    "char2index = dict((c, i) for i, c in enumerate(chars))\n",
    "index2char = dict((i, c) for i, c in enumerate(chars))"
   ]
  },
  {
   "cell_type": "code",
   "execution_count": 9,
   "metadata": {},
   "outputs": [
    {
     "name": "stdout",
     "output_type": "stream",
     "text": [
      "빛\n",
      "661\n"
     ]
    }
   ],
   "source": [
    "print(index2char[2])\n",
    "print(char2index[\"사\"])"
   ]
  },
  {
   "cell_type": "code",
   "execution_count": 30,
   "metadata": {},
   "outputs": [
    {
     "name": "stdout",
     "output_type": "stream",
     "text": [
      "컨\n",
      "낡\n",
      "쁜\n",
      "순\n",
      "닮\n",
      "왠\n",
      "희\n",
      "죽\n",
      "뿌\n",
      "싣\n"
     ]
    },
    {
     "ename": "KeyError",
     "evalue": "850",
     "output_type": "error",
     "traceback": [
      "\u001b[0;31m-----------------------------------------------------------------------\u001b[0m",
      "\u001b[0;31mKeyError\u001b[0m                              Traceback (most recent call last)",
      "\u001b[0;32m<ipython-input-30-ba35a8690136>\u001b[0m in \u001b[0;36m<module>\u001b[0;34m()\u001b[0m\n\u001b[1;32m      1\u001b[0m \u001b[0;32mfor\u001b[0m \u001b[0mi\u001b[0m \u001b[0;32min\u001b[0m \u001b[0mrange\u001b[0m\u001b[0;34m(\u001b[0m\u001b[0;36m840\u001b[0m\u001b[0;34m,\u001b[0m\u001b[0;36m860\u001b[0m\u001b[0;34m)\u001b[0m\u001b[0;34m:\u001b[0m\u001b[0;34m\u001b[0m\u001b[0m\n\u001b[0;32m----> 2\u001b[0;31m     \u001b[0mprint\u001b[0m\u001b[0;34m(\u001b[0m\u001b[0mindex2char\u001b[0m\u001b[0;34m[\u001b[0m\u001b[0mi\u001b[0m\u001b[0;34m]\u001b[0m\u001b[0;34m)\u001b[0m\u001b[0;34m\u001b[0m\u001b[0m\n\u001b[0m",
      "\u001b[0;31mKeyError\u001b[0m: 850"
     ]
    }
   ],
   "source": [
    "for i in range(840,860):\n",
    "    print(index2char[i])"
   ]
  },
  {
   "cell_type": "code",
   "execution_count": 33,
   "metadata": {},
   "outputs": [
    {
     "data": {
      "text/plain": [
       "'여섯 살 적에 나는 \"체험한 이야기\"라는 제목의, 원시림에 관한 책에서 기막힌 그림 하나를 본 적이 있다. 맹수를 집어삼키고 있는 보아 구렁이 그림이었다. 위의 그림은 그것을 옮겨'"
      ]
     },
     "execution_count": 33,
     "metadata": {},
     "output_type": "execute_result"
    }
   ],
   "source": [
    "text[:100]"
   ]
  },
  {
   "cell_type": "code",
   "execution_count": 10,
   "metadata": {},
   "outputs": [
    {
     "name": "stdout",
     "output_type": "stream",
     "text": [
      "Creating input and label text...\n"
     ]
    }
   ],
   "source": [
    "# X, Y 데이터 생성\n",
    "# \"The sky was falling\"\n",
    "# 아래와 같이 10개 문자를 주면 다음 문자가 정답\n",
    "#   The sky wa -> s\n",
    "#   he sky was ->  \n",
    "#   e sky was  -> f\n",
    "#    sky was f -> a\n",
    "#   sky was fa -> l\n",
    "\n",
    "print(\"Creating input and label text...\")\n",
    "SEQLEN = 10\n",
    "STEP = 1\n",
    "\n",
    "input_chars = []\n",
    "label_chars = []\n",
    "for i in range(0, len(text) - SEQLEN, STEP):\n",
    "    input_chars.append(text[i:i + SEQLEN])\n",
    "    label_chars.append(text[i + SEQLEN])"
   ]
  },
  {
   "cell_type": "code",
   "execution_count": 11,
   "metadata": {},
   "outputs": [
    {
     "data": {
      "text/plain": [
       "850"
      ]
     },
     "execution_count": 11,
     "metadata": {},
     "output_type": "execute_result"
    }
   ],
   "source": [
    "nb_chars"
   ]
  },
  {
   "cell_type": "code",
   "execution_count": 12,
   "metadata": {},
   "outputs": [
    {
     "name": "stdout",
     "output_type": "stream",
     "text": [
      "Vectorizing input and label text...\n"
     ]
    },
    {
     "data": {
      "text/plain": [
       "(44792, 10, 850)"
      ]
     },
     "execution_count": 12,
     "metadata": {},
     "output_type": "execute_result"
    }
   ],
   "source": [
    "# 데이터 벡터화\n",
    "# 원핫 인코딩 - True False\n",
    "# 주어진 어린왕자 데이터에는 총 850개의 글자 포함\n",
    "# input_chars(44792)에서 각 row마다 10개의 글자를 벡터화(850) => (44792, 10, 850)\n",
    "# 전체 글자에 대해 해당 되는 글자에만 True, 나머지는 False\n",
    "#\n",
    "print(\"Vectorizing input and label text...\")\n",
    "X = np.zeros((len(input_chars), SEQLEN, nb_chars), dtype=np.bool)\n",
    "y = np.zeros((len(input_chars), nb_chars), dtype=np.bool)\n",
    "\n",
    "for i, input_char in enumerate(input_chars):\n",
    "    for j, ch in enumerate(input_char):\n",
    "        X[i, j, char2index[ch]] = 1\n",
    "    y[i, char2index[label_chars[i]]] = 1\n",
    "X.shape"
   ]
  },
  {
   "cell_type": "code",
   "execution_count": 19,
   "metadata": {},
   "outputs": [
    {
     "data": {
      "text/plain": [
       "442"
      ]
     },
     "execution_count": 19,
     "metadata": {},
     "output_type": "execute_result"
    }
   ],
   "source": [
    "# np.argmax(X[:3])\n",
    "np.argmax(X[0,0,:500])"
   ]
  },
  {
   "cell_type": "code",
   "execution_count": 13,
   "metadata": {},
   "outputs": [],
   "source": [
    "# RNN 모델\n",
    "HIDDEN_SIZE = 128\n",
    "BATCH_SIZE = 128\n",
    "NUM_ITERATIONS = 25\n",
    "NUM_EPOCHS_PER_ITERATION = 1\n",
    "NUM_PREDS_PER_EPOCH = 10\n",
    "\n",
    "model = Sequential()\n",
    "model.add(SimpleRNN(HIDDEN_SIZE, return_sequences=False,\n",
    "                    input_shape=(SEQLEN, nb_chars),\n",
    "                    unroll=True))\n",
    "model.add(Dense(nb_chars))\n",
    "model.add(Activation(\"softmax\"))\n",
    "\n",
    "model.compile(loss=\"categorical_crossentropy\", optimizer=\"rmsprop\")"
   ]
  },
  {
   "cell_type": "code",
   "execution_count": 7,
   "metadata": {
    "scrolled": false
   },
   "outputs": [
    {
     "name": "stdout",
     "output_type": "stream",
     "text": [
      "==================================================\n",
      "Iteration #: 0\n",
      "Epoch 1/1\n",
      "44792/44792 [==============================] - 16s 348us/step - loss: 4.26210s - loss: 4.2\n",
      "입력:  물었다. \"그럼 \n",
      " 물었다. \"그럼  이 다. \" 그 \n",
      "==================================================\n",
      "Iteration #: 1\n",
      "Epoch 1/1\n",
      "44792/44792 [==============================] - 17s 382us/step - loss: 3.6831\n",
      "입력: ...\" (위험이 \n",
      "...\" (위험이 그 이 있는 그 이\n",
      "==================================================\n",
      "Iteration #: 2\n",
      "Epoch 1/1\n",
      "44792/44792 [==============================] - 14s 313us/step - loss: 3.4193\n",
      "입력:  연록색 방 속에 \n",
      " 연록색 방 속에 있는 그 이 있는 \n",
      "==================================================\n",
      "Iteration #: 3\n",
      "Epoch 1/1\n",
      "44792/44792 [==============================] - 14s 307us/step - loss: 3.2299\n",
      "입력:  작은 것이다지구에\n",
      " 작은 것이다지구에 어린 왕자가 말했\n",
      "==================================================\n",
      "Iteration #: 4\n",
      "Epoch 1/1\n",
      "44792/44792 [==============================] - 14s 308us/step - loss: 3.0766\n",
      "입력:  비밀은 이런 거야\n",
      " 비밀은 이런 거야. 그래서 그 꽃은\n",
      "==================================================\n",
      "Iteration #: 5\n",
      "Epoch 1/1\n",
      "44792/44792 [==============================] - 14s 311us/step - loss: 2.9508\n",
      "입력:  찾아야 해.\" 나\n",
      " 찾아야 해.\" 나는 그 이 없었다.\n",
      "==================================================\n",
      "Iteration #: 6\n",
      "Epoch 1/1\n",
      "44792/44792 [==============================] - 14s 316us/step - loss: 2.8395\n",
      "입력: 을 계속했다. \"그\n",
      "을 계속했다. \"그래서 그 꽃은 그 \n",
      "==================================================\n",
      "Iteration #: 7\n",
      "Epoch 1/1\n",
      "44792/44792 [==============================] - 14s 319us/step - loss: 2.7450\n",
      "입력: 이 나오거든!> 그\n",
      "이 나오거든!> 그래서 그가 말했다.\n",
      "==================================================\n",
      "Iteration #: 8\n",
      "Epoch 1/1\n",
      "44792/44792 [==============================] - 15s 324us/step - loss: 2.6603\n",
      "입력: 내 것이지. 내가 \n",
      "내 것이지. 내가 물은 그 이 아무 \n",
      "==================================================\n",
      "Iteration #: 9\n",
      "Epoch 1/1\n",
      "44792/44792 [==============================] - 14s 322us/step - loss: 2.5847\n",
      "입력: 가게 됐지. ...\n",
      "가게 됐지. ......\" \"그래.\"\n",
      "==================================================\n",
      "Iteration #: 10\n",
      "Epoch 1/1\n",
      "44792/44792 [==============================] - 16s 352us/step - loss: 2.5187\n",
      "입력: 모양이다. 5 나는\n",
      "모양이다. 5 나는 별이 그것을 가 \n",
      "==================================================\n",
      "Iteration #: 11\n",
      "Epoch 1/1\n",
      "44792/44792 [==============================] - 15s 345us/step - loss: 2.4571\n",
      "입력:  나에겐 수많은 다\n",
      " 나에겐 수많은 다른 사람들이었다. \n",
      "==================================================\n",
      "Iteration #: 12\n",
      "Epoch 1/1\n",
      "44792/44792 [==============================] - 1689s 38ms/step - loss: 2.3985\n",
      "입력: 지. 산이 위치를 \n",
      "지. 산이 위치를 그 꽃들을 것을 보\n",
      "==================================================\n",
      "Iteration #: 13\n",
      "Epoch 1/1\n",
      "44792/44792 [==============================] - 3247s 73ms/step - loss: 2.3471\n",
      "입력: 마쳤으나늙은 임금을\n",
      "마쳤으나늙은 임금을 하지 않았다. \"\n",
      "==================================================\n",
      "Iteration #: 14\n",
      "Epoch 1/1\n",
      "44792/44792 [==============================] - 3247s 72ms/step - loss: 2.2980\n",
      "입력: 는 거란다.\" 여우\n",
      "는 거란다.\" 여우가 말했다. \"그건\n",
      "==================================================\n",
      "Iteration #: 15\n",
      "Epoch 1/1\n",
      "44792/44792 [==============================] - 9126s 204ms/step - loss: 2.2522\n",
      "입력:  \"그렇지만그들이 \n",
      " \"그렇지만그들이 아니라. 그것은 아\n",
      "==================================================\n",
      "Iteration #: 16\n",
      "Epoch 1/1\n",
      "44792/44792 [==============================] - 9740s 217ms/step - loss: 2.2075\n",
      "입력: \" \"왕은 소유하지\n",
      "\" \"왕은 소유하지 않았다. \" 그가\n",
      "==================================================\n",
      "Iteration #: 17\n",
      "Epoch 1/1\n",
      "44792/44792 [==============================] - 466s 10ms/step - loss: 2.1664\n",
      "입력: 는단다.\" \"가장 \n",
      "는단다.\" \"가장 중요한 일이야...\n",
      "==================================================\n",
      "Iteration #: 18\n",
      "Epoch 1/1\n",
      "44792/44792 [==============================] - 854s 19ms/step - loss: 2.1300\n",
      "입력: 오로지 마음으로만 \n",
      "오로지 마음으로만 하고 있었다. 그 \n",
      "==================================================\n",
      "Iteration #: 19\n",
      "Epoch 1/1\n",
      "44792/44792 [==============================] - 16s 348us/step - loss: 2.0918\n",
      "입력: 러나 마을이라곤 없\n",
      "러나 마을이라곤 없었다. 그는 그 별\n",
      "==================================================\n",
      "Iteration #: 20\n",
      "Epoch 1/1\n",
      "44792/44792 [==============================] - 1179s 26ms/step - loss: 2.0599\n",
      "입력:  하나밖에 없는 데\n",
      " 하나밖에 없는 데 거야. 그래 그 \n",
      "==================================================\n",
      "Iteration #: 21\n",
      "Epoch 1/1\n",
      "44792/44792 [==============================] - 18s 404us/step - loss: 2.0259\n",
      "입력: 왔다.어른들 틈에서\n",
      "왔다.어른들 틈에서 그 꽃은 그 별에\n",
      "==================================================\n",
      "Iteration #: 22\n",
      "Epoch 1/1\n",
      "44792/44792 [==============================] - 16s 359us/step - loss: 1.9951\n",
      "입력: 어요. 여기서 살 \n",
      "어요. 여기서 살 수 있는 것이었다.\n",
      "==================================================\n",
      "Iteration #: 23\n",
      "Epoch 1/1\n",
      "44792/44792 [==============================] - 16s 360us/step - loss: 1.9663\n",
      "입력: 야.\" 여우가 말했\n",
      "야.\" 여우가 말했다. \"그건 아주 \n",
      "==================================================\n",
      "Iteration #: 24\n",
      "Epoch 1/1\n",
      "44792/44792 [==============================] - 16s 359us/step - loss: 1.9406\n",
      "입력:  걸어가도록 해..\n",
      " 걸어가도록 해...... \" \" 어\n"
     ]
    }
   ],
   "source": [
    "for iteration in range(NUM_ITERATIONS):\n",
    "    print(\"=\" * 50)\n",
    "    print(\"Iteration #: %d\" % (iteration))\n",
    "    model.fit(X, y, batch_size=BATCH_SIZE, epochs=NUM_EPOCHS_PER_ITERATION)\n",
    "    \n",
    "    # 각 학습마다 테스트 데이터( 연속된 10개 글자 )를 부여하고\n",
    "    # 다음 문자 10개를 예측\n",
    "    \n",
    "    test_idx = np.random.randint(len(input_chars))\n",
    "    test_chars = input_chars[test_idx]\n",
    "    print(\"입력: %s\" % (test_chars))\n",
    "    print(test_chars, end=\"\")\n",
    "    \n",
    "    for i in range(NUM_PREDS_PER_EPOCH):\n",
    "        Xtest = np.zeros((1, SEQLEN, nb_chars))\n",
    "        for i, ch in enumerate(test_chars):\n",
    "            Xtest[0, i, char2index[ch]] = 1\n",
    "        pred = model.predict(Xtest, verbose=0)[0]\n",
    "        ypred = index2char[np.argmax(pred)]\n",
    "        print(ypred, end=\"\")\n",
    "        \n",
    "        # move forward with test_chars + ypred\n",
    "        test_chars = test_chars[1:] + ypred\n",
    "    print()"
   ]
  },
  {
   "cell_type": "code",
   "execution_count": null,
   "metadata": {},
   "outputs": [],
   "source": []
  }
 ],
 "metadata": {
  "kernelspec": {
   "display_name": "Python 3",
   "language": "python",
   "name": "python3"
  },
  "language_info": {
   "codemirror_mode": {
    "name": "ipython",
    "version": 3
   },
   "file_extension": ".py",
   "mimetype": "text/x-python",
   "name": "python",
   "nbconvert_exporter": "python",
   "pygments_lexer": "ipython3",
   "version": "3.6.6"
  }
 },
 "nbformat": 4,
 "nbformat_minor": 2
}
